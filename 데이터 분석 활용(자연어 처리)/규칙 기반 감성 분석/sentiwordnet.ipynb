{
 "cells": [
  {
   "cell_type": "code",
   "execution_count": 3,
   "metadata": {},
   "outputs": [
    {
     "name": "stderr",
     "output_type": "stream",
     "text": [
      "[nltk_data] Downloading package wordnet to\n",
      "[nltk_data]     /Users/songchangseokk/nltk_data...\n",
      "[nltk_data]   Package wordnet is already up-to-date!\n",
      "[nltk_data] Downloading package omw-1.4 to\n",
      "[nltk_data]     /Users/songchangseokk/nltk_data...\n",
      "[nltk_data]   Package omw-1.4 is already up-to-date!\n",
      "[nltk_data] Downloading package sentiwordnet to\n",
      "[nltk_data]     /Users/songchangseokk/nltk_data...\n",
      "[nltk_data]   Package sentiwordnet is already up-to-date!\n",
      "[nltk_data] Downloading package stopwords to\n",
      "[nltk_data]     /Users/songchangseokk/nltk_data...\n",
      "[nltk_data]   Package stopwords is already up-to-date!\n",
      "[nltk_data] Downloading package punkt to\n",
      "[nltk_data]     /Users/songchangseokk/nltk_data...\n",
      "[nltk_data]   Package punkt is already up-to-date!\n",
      "[nltk_data] Downloading package averaged_perceptron_tagger to\n",
      "[nltk_data]     /Users/songchangseokk/nltk_data...\n",
      "[nltk_data]   Package averaged_perceptron_tagger is already up-to-\n",
      "[nltk_data]       date!\n"
     ]
    }
   ],
   "source": [
    "import nltk\n",
    "from nltk.tokenize import word_tokenize\n",
    "from nltk.tokenize import sent_tokenize\n",
    "from nltk.corpus import stopwords\n",
    "from nltk.corpus import wordnet as wn\n",
    "from nltk.corpus import sentiwordnet as swn\n",
    "from collections import Counter\n",
    "import pandas as pd\n",
    "from preprocess import clean_by_freq\n",
    "from preprocess import clean_by_len\n",
    "from preprocess import clean_by_stopwords\n",
    "from preprocess import stemming_by_porter\n",
    "from preprocess import pos_tagger\n",
    "from preprocess import words_lemmatizer\n",
    "nltk.download('sentiwordnet')\n",
    "nltk.download('stopwords')\n",
    "nltk.download('punkt')\n",
    "nltk.download('averaged_perceptron_tagger')\n",
    "\n",
    "# happy의 긍정, 부정, 중립 지수 확인하기\n",
    "happy_sentisynsets = list(swn.senti_synsets('happy'))\n",
    "\n",
    "pos_score = happy_sentisynsets[0].pos_score()\n",
    "neg_score = happy_sentisynsets[0].neg_score()\n",
    "obj_score = happy_sentisynsets[0].obj_score()\n",
    "\n",
    "# 품사 별 감성 지수 비교\n",
    "adj_synsets = wn.synsets('hard', wn.ADJ)\n",
    "adv_synsets = wn.synsets('hard', wn.ADV)\n",
    "\n",
    "adj_synset = adj_synsets[0]\n",
    "adv_synset = adv_synsets[0]\n",
    "\n",
    "adj_senti_synset = swn.senti_synset(adj_synset.name())\n",
    "adv_senti_synset = swn.senti_synset(adv_synset.name())"
   ]
  },
  {
   "cell_type": "code",
   "execution_count": 4,
   "metadata": {},
   "outputs": [],
   "source": [
    "from nltk.corpus import sentiwordnet as swn"
   ]
  },
  {
   "cell_type": "code",
   "execution_count": 5,
   "metadata": {},
   "outputs": [
    {
     "name": "stdout",
     "output_type": "stream",
     "text": [
      "wordnet-happy:  [Synset('happy.a.01'), Synset('felicitous.s.02'), Synset('glad.s.02'), Synset('happy.s.04')]\n",
      "sentiwordnet-happy:  [SentiSynset('happy.a.01'), SentiSynset('felicitous.s.02'), SentiSynset('glad.s.02'), SentiSynset('happy.s.04')]\n"
     ]
    }
   ],
   "source": [
    "print(\"wordnet-happy: \", wn.synsets('happy'))\n",
    "print(\"sentiwordnet-happy: \", list(swn.senti_synsets('happy')))"
   ]
  },
  {
   "cell_type": "code",
   "execution_count": 6,
   "metadata": {},
   "outputs": [
    {
     "name": "stdout",
     "output_type": "stream",
     "text": [
      "0.875 0.0 0.125\n"
     ]
    }
   ],
   "source": [
    "happy_sentisynsets = list(swn.senti_synsets('happy'))\n",
    "\n",
    "pos_score = happy_sentisynsets[0].pos_score()\n",
    "neg_score = happy_sentisynsets[0].neg_score()\n",
    "obj_score = happy_sentisynsets[0].obj_score()\n",
    "\n",
    "print(pos_score, neg_score, obj_score)"
   ]
  },
  {
   "cell_type": "code",
   "execution_count": 7,
   "metadata": {},
   "outputs": [
    {
     "name": "stdout",
     "output_type": "stream",
     "text": [
      "0.875\n"
     ]
    }
   ],
   "source": [
    "print(pos_score - neg_score)"
   ]
  },
  {
   "cell_type": "code",
   "execution_count": 8,
   "metadata": {},
   "outputs": [],
   "source": [
    "adj_synsets = wn.synsets('hard', wn.ADJ)\n",
    "adv_synsets = wn.synsets('hard', wn.ADV)"
   ]
  },
  {
   "cell_type": "code",
   "execution_count": 9,
   "metadata": {},
   "outputs": [],
   "source": [
    "adj_synset = adj_synsets[0]\n",
    "adv_synset = adv_synsets[0]"
   ]
  },
  {
   "cell_type": "code",
   "execution_count": 10,
   "metadata": {},
   "outputs": [
    {
     "name": "stdout",
     "output_type": "stream",
     "text": [
      "<difficult.a.01: PosScore=0.0 NegScore=0.75>\n",
      "<hard.r.01: PosScore=0.125 NegScore=0.125>\n"
     ]
    }
   ],
   "source": [
    "adj_senti_synset = swn.senti_synset(adj_synset.name())\n",
    "adv_senti_synset = swn.senti_synset(adv_synset.name())\n",
    "\n",
    "print(adj_senti_synset)\n",
    "print(adv_senti_synset)"
   ]
  }
 ],
 "metadata": {
  "kernelspec": {
   "display_name": "prac_env",
   "language": "python",
   "name": "python3"
  },
  "language_info": {
   "codemirror_mode": {
    "name": "ipython",
    "version": 3
   },
   "file_extension": ".py",
   "mimetype": "text/x-python",
   "name": "python",
   "nbconvert_exporter": "python",
   "pygments_lexer": "ipython3",
   "version": "3.12.4"
  }
 },
 "nbformat": 4,
 "nbformat_minor": 2
}
