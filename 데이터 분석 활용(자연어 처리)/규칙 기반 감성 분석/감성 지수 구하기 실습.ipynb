{
 "cells": [
  {
   "cell_type": "code",
   "execution_count": 1,
   "metadata": {},
   "outputs": [
    {
     "name": "stderr",
     "output_type": "stream",
     "text": [
      "[nltk_data] Downloading package wordnet to\n",
      "[nltk_data]     /Users/songchangseokk/nltk_data...\n",
      "[nltk_data]   Package wordnet is already up-to-date!\n",
      "[nltk_data] Downloading package sentiwordnet to\n",
      "[nltk_data]     /Users/songchangseokk/nltk_data...\n",
      "[nltk_data]   Package sentiwordnet is already up-to-date!\n",
      "[nltk_data] Downloading package omw-1.4 to\n",
      "[nltk_data]     /Users/songchangseokk/nltk_data...\n",
      "[nltk_data]   Package omw-1.4 is already up-to-date!\n"
     ]
    },
    {
     "name": "stdout",
     "output_type": "stream",
     "text": [
      "[Synset('love.v.01'), Synset('love.v.02'), Synset('love.v.03'), Synset('sleep_together.v.01')]\n",
      "0.5\n"
     ]
    },
    {
     "data": {
      "text/plain": [
       "0.5"
      ]
     },
     "execution_count": 1,
     "metadata": {},
     "output_type": "execute_result"
    }
   ],
   "source": [
    "import nltk\n",
    "from nltk.corpus import wordnet as wn\n",
    "from nltk.corpus import sentiwordnet as swn\n",
    "nltk.download('wordnet')\n",
    "nltk.download('sentiwordnet')\n",
    "nltk.download('omw-1.4')\n",
    "\n",
    "def get_sentiment_score(word, pos):\n",
    "    # 단어와 품사 태그를 기반으로 Synsets 구하기\n",
    "    synsets = wn.synsets(word, pos=pos)\n",
    "    print(synsets)\n",
    "\n",
    "    # Synsets의 첫 번째 요소의 이름으로 단일 SentiSynset 구하기\n",
    "    senti_synset = swn.senti_synset(synsets[0].name())\n",
    "    \n",
    "    # SentiSynset의 긍정 지수, 부정 지수 구하기\n",
    "    print(senti_synset.pos_score())\n",
    "\n",
    "    # 긍정 지수 - 부정 지수로 감성 지수 값 계산해 반환하기\n",
    "    sentiment_score = senti_synset.pos_score() - senti_synset.neg_score()\n",
    "\n",
    "    return sentiment_score\n",
    "\n",
    "get_sentiment_score('love', wn.VERB)"
   ]
  }
 ],
 "metadata": {
  "kernelspec": {
   "display_name": "prac_env",
   "language": "python",
   "name": "python3"
  },
  "language_info": {
   "codemirror_mode": {
    "name": "ipython",
    "version": 3
   },
   "file_extension": ".py",
   "mimetype": "text/x-python",
   "name": "python",
   "nbconvert_exporter": "python",
   "pygments_lexer": "ipython3",
   "version": "3.12.4"
  }
 },
 "nbformat": 4,
 "nbformat_minor": 2
}
