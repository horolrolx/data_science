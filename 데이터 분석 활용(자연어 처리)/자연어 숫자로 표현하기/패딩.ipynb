{
 "cells": [
  {
   "cell_type": "markdown",
   "metadata": {},
   "source": [
    "# 패딩 ?\n",
    "- 데이터를 행렬로 만들면, 컴퓨터는 많은 데이터를 한 번에 묶어서 처리할 수 있다.\n",
    "- 좀 더 복잡한 연산을 쉽게 처리하는게 가능\n",
    "- 각기 다른 문장의 길이를 서로 맞춰서 행렬 형태로 만드는게 필요, 그것을 패딩이라고 한다."
   ]
  },
  {
   "cell_type": "markdown",
   "metadata": {},
   "source": [
    "# 제로 패딩(Zero Padding)\n",
    "- 정수 인코딩을 한 문장 중 가장 긴 문장의 길이를 구하고, 길이가 짧은 문장에 숫자 0을 채워서 가장 긴 문장과 길이를 맞추는 방법\n",
    "- 정수 인코딩 작업을 할 때 빈도수에 따라 정수 인덱스를 1부터 부여했었다. 때문에 정수 0은 아무 의미를 갖고 있지 않고, 컴퓨터는 해당 인덱스를 무시하게 된다."
   ]
  }
 ],
 "metadata": {
  "kernelspec": {
   "display_name": "prac_env",
   "language": "python",
   "name": "python3"
  },
  "language_info": {
   "name": "python",
   "version": "3.12.4"
  }
 },
 "nbformat": 4,
 "nbformat_minor": 2
}
