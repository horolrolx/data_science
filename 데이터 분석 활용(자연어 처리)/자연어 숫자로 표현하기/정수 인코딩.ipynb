{
 "cells": [
  {
   "cell_type": "code",
   "execution_count": 1,
   "metadata": {},
   "outputs": [
    {
     "name": "stderr",
     "output_type": "stream",
     "text": [
      "[nltk_data] Downloading package wordnet to\n",
      "[nltk_data]     /Users/songchangseokk/nltk_data...\n",
      "[nltk_data]   Package wordnet is already up-to-date!\n",
      "[nltk_data] Downloading package omw-1.4 to\n",
      "[nltk_data]     /Users/songchangseokk/nltk_data...\n",
      "[nltk_data]   Package omw-1.4 is already up-to-date!\n",
      "[nltk_data] Downloading package stopwords to\n",
      "[nltk_data]     /Users/songchangseokk/nltk_data...\n",
      "[nltk_data]   Package stopwords is already up-to-date!\n",
      "[nltk_data] Downloading package punkt to\n",
      "[nltk_data]     /Users/songchangseokk/nltk_data...\n",
      "[nltk_data]   Package punkt is already up-to-date!\n",
      "[nltk_data] Downloading package averaged_perceptron_tagger to\n",
      "[nltk_data]     /Users/songchangseokk/nltk_data...\n",
      "[nltk_data]   Package averaged_perceptron_tagger is already up-to-\n",
      "[nltk_data]       date!\n"
     ]
    },
    {
     "data": {
      "text/plain": [
       "True"
      ]
     },
     "execution_count": 1,
     "metadata": {},
     "output_type": "execute_result"
    }
   ],
   "source": [
    "import nltk\n",
    "from nltk.tokenize import word_tokenize\n",
    "from nltk.tokenize import sent_tokenize\n",
    "from nltk.corpus import stopwords\n",
    "from nltk.corpus import wordnet as wn\n",
    "from collections import Counter\n",
    "import pandas as pd\n",
    "from preprocess import clean_by_freq\n",
    "from preprocess import clean_by_len\n",
    "from preprocess import clean_by_stopwords\n",
    "from preprocess import stemming_by_porter\n",
    "from preprocess import pos_tagger\n",
    "from preprocess import words_lemmatizer\n",
    "nltk.download('stopwords')\n",
    "nltk.download('punkt')\n",
    "nltk.download('averaged_perceptron_tagger')"
   ]
  },
  {
   "cell_type": "code",
   "execution_count": 3,
   "metadata": {},
   "outputs": [
    {
     "name": "stderr",
     "output_type": "stream",
     "text": [
      "/var/folders/5x/qyhn_rn57c1ckbjg691620fw0000gp/T/ipykernel_18052/526587684.py:11: ParserWarning: Falling back to the 'python' engine because the 'c' engine does not support regex separators (separators > 1 char and different from '\\s+' are interpreted as regex); you can avoid this warning by specifying engine='python'.\n",
      "  df = pd.read_csv('imdb.tsv', delimiter = \"\\\\t\")\n"
     ]
    }
   ],
   "source": [
    "\n",
    "def idx_encoder(tokens, word_to_idx):\n",
    "    encoded_idx = []\n",
    "    \n",
    "    for token in tokens:\n",
    "        idx = word_to_idx[token]\n",
    "        encoded_idx.append(idx)\n",
    "        \n",
    "    return encoded_idx\n",
    "\n",
    "# 데이터 불러오기\n",
    "df = pd.read_csv('imdb.tsv', delimiter = \"\\\\t\")\n",
    "\n",
    "# 대소문자 통합\n",
    "df['review'] = df['review'].str.lower()\n",
    "\n",
    "# 문장 토큰화\n",
    "df['sent_tokens'] = df['review'].apply(sent_tokenize)\n",
    "\n",
    "# 품사 태깅\n",
    "df['pos_tagged_tokens'] = df['sent_tokens'].apply(pos_tagger)\n",
    "\n",
    "# 표제어 추출\n",
    "df['lemmatized_tokens'] = df['pos_tagged_tokens'].apply(words_lemmatizer)\n",
    "\n",
    "# 추가 전처리\n",
    "stopwords_set = set(stopwords.words('english'))\n",
    "\n",
    "df['cleaned_tokens'] = df['lemmatized_tokens'].apply(lambda x: clean_by_freq(x, 1))\n",
    "df['cleaned_tokens'] = df['cleaned_tokens'].apply(lambda x: clean_by_len(x, 2))\n",
    "df['cleaned_tokens'] = df['cleaned_tokens'].apply(lambda x: clean_by_stopwords(x, stopwords_set))\n",
    "\n",
    "# 하나의 행 정수 인코딩\n",
    "word_to_idx = {}\n",
    "i = 0\n",
    "encoded_idx = []"
   ]
  },
  {
   "cell_type": "code",
   "execution_count": 4,
   "metadata": {},
   "outputs": [
    {
     "name": "stdout",
     "output_type": "stream",
     "text": [
      "[('movie', 10), ('jim', 7), ('stand-up', 3), ('day', 3), ('really', 3), ('terrible', 3), ('site', 2), ('bad', 2), ('even', 2), ('make', 2), ('special', 2), ('describe', 2), ('like', 2), ('actor', 2), ('love', 2), ('stand', 2), ('comedian', 2)]\n"
     ]
    }
   ],
   "source": [
    "tokens = df['cleaned_tokens'][4]\n",
    "\n",
    "vocab = Counter(tokens)\n",
    "vocab = vocab.most_common()\n",
    "\n",
    "print(vocab)"
   ]
  },
  {
   "cell_type": "code",
   "execution_count": 5,
   "metadata": {},
   "outputs": [
    {
     "name": "stdout",
     "output_type": "stream",
     "text": [
      "{'movie': 1, 'jim': 2, 'stand-up': 3, 'day': 4, 'really': 5, 'terrible': 6, 'site': 7, 'bad': 8, 'even': 9, 'make': 10, 'special': 11, 'describe': 12, 'like': 13, 'actor': 14, 'love': 15, 'stand': 16, 'comedian': 17}\n"
     ]
    }
   ],
   "source": [
    "word_to_idx = {}\n",
    "i = 0\n",
    "\n",
    "for (word, frequency) in vocab:\n",
    "    i = i + 1\n",
    "    word_to_idx[word] = i\n",
    "\n",
    "print(word_to_idx)"
   ]
  },
  {
   "cell_type": "code",
   "execution_count": 6,
   "metadata": {},
   "outputs": [
    {
     "name": "stdout",
     "output_type": "stream",
     "text": [
      "[7, 1, 8, 9, 1, 1, 10, 1, 11, 12, 1, 1, 12, 1, 2, 10, 3, 4, 3, 2, 13, 2, 14, 15, 16, 4, 17, 11, 2, 4, 9, 7, 15, 2, 3, 2, 14, 1, 16, 17, 2, 13, 5, 6, 5, 6, 1, 6, 5, 8, 1]\n"
     ]
    }
   ],
   "source": [
    "encoded_idx = []\n",
    "\n",
    "for token in tokens:\n",
    "    idx = word_to_idx[token]\n",
    "    encoded_idx.append(idx)\n",
    "\n",
    "print(encoded_idx)"
   ]
  },
  {
   "cell_type": "code",
   "execution_count": 7,
   "metadata": {},
   "outputs": [
    {
     "name": "stdout",
     "output_type": "stream",
     "text": [
      "['make', 'one', 'film', 'say', 'make', 'really', 'bad', 'movie', 'like', 'say', 'make', 'really', 'bad', 'movie', 'bad', 'one', 'film', 'like', 'film', 'film', 'new', 'york', 'joan', 'barnard', 'elvire', 'audrey', 'barnard', 'john', 'saxon', 'italy', 'etruscan', 'tomb', 'joan', 'italy', 'colleague', 'italy', 'maggot', 'maggot', 'joan', 'drug', 'drug', 'tomb', 'colleague', 'story', 'end', 'new', 'york', 'joan', 'colleague', 'romantic', 'end', 'waste', 'time', 'watch', 'story', 'romantic', 'end', 'elvire', 'audrey', 'john', 'saxon', 'maggot', 'watch', 'etrusco', 'watch', 'waste', 'time', 'etrusco', 'etruscan', 'film', 'film', 'jump', 'send', \"n't\", 'jump', 'radio', \"n't\", 'send', 'reporter', 'fear', 'jump', 'fear', 'radio', 'reporter', \"n't\", 'radio', \"n't\", \"n't\", 'site', 'movie', 'bad', 'even', 'movie', 'movie', 'make', 'movie', 'special', 'describe', 'movie', 'movie', 'describe', 'movie', 'jim', 'make', 'stand-up', 'day', 'stand-up', 'jim', 'like', 'jim', 'actor', 'love', 'stand', 'day', 'comedian', 'special', 'jim', 'day', 'even', 'site', 'love', 'jim', 'stand-up', 'jim', 'actor', 'movie', 'stand', 'comedian', 'jim', 'like', 'really', 'terrible', 'really', 'terrible', 'movie', 'terrible', 'really', 'bad', 'movie', 'ehle', 'northam', 'wonderful', 'wonderful', 'ehle', 'northam', 'lust', 'lust', 'ehle', 'northam', 'role', 'movie', \"n't\", 'author', 'book', 'funny', 'author', 'author', 'role', \"n't\", 'funny', 'queen', 'corn', 'corn', 'queen', 'author', 'book', 'movie', \"n't\", 'plane', 'ceo', 'search', 'rescue', 'mission', 'call', 'ceo', 'harlan', 'knowles', 'lance', 'henriksen', 'put', 'search', 'rescue', 'mission', 'knowles', 'search', 'try', 'rescue', 'wood', 'film', 'one', 'lance', 'henriksen', 'one', 'two', 'could', 'easily', 'decent', 'film', 'two', \"'re\", 'quastel', 'film', 'call', 'sasquatch', 'bad', 'edit', 'see', 'quastel', 'appear', 'try', 'time', 'want', 'try', 'potential', 'material', 'relate', 'plane', 'try', 'crib', 'material', 'relate', 'monster', 'crib', 'exposition', 'dialogue', 'potential', 'far', 'monster', 'costume', 'get', 'see', 'character', 'wood', 'could', 'quastel', 'would', 'stereotype', 'time', 'monster', 'edit', 'well', 'scene', 'decent', 'dialogue', 'could', 'easily', 'effective', 'sasquatch', 'make', 'reason', 'quastel', 'think', 'good', 'idea', 'dialogue', 'scene', 'occur', 'time', 'see', 'line', 'scene', 'line', 'scene', 'back', 'back', 'reason', 'think', 'good', 'idea', 'use', 'use', 'dialogue', 'whether', 'need', 'idea', 'time', 'irrelevant', 'comment', 'whether', 'irrelevant', 'comment', 'occur', 'one', 'time', 'reason', \"n't\", 'whether', 'scene', 'cut', 'random', 'scene', \"'re\", 'show', 'appear', 'random', 'important', 'either', 'never', 'appear', \"'re\", 'far', 'scene', 'reason', 'leave', 'scene', 'film', 'either', 'need', 'exposition', 'get', 'need', 'cut', 'important', 'monster', 'could', 'easily', 'show', 'reason', 'character', 'leave', 'even', 'though', 'reason', 'scene', 'even', 'though', 'never', 'reason', 'character', 'call', 'harlan', 'knowles', 'like', \"'re\", 'stereotype', 'reason', 'quastel', 'use', 'monster', 'scene', 'even', 'though', 'costume', \"n't\", 'bad', 'would', 'effective', 'put', 'bad', 'could', 'get', 'idea', 'want', 'like', 'film', 'good', 'henriksen', 'love', 'love', 'film', 'one', 'could', \"n't\", 'time', 'think', 'well', 'quastel', 'make', 'gritty', 'movie', 'movie', 'keep', 'sci-fi', 'good', 'keep', 'suspense', 'look', 'movie', 'sci-fi', \"'re\", 'look', \"'re\", 'look', 'good', 'gritty', 'sci-fi', 'good', 'suspense', 'movie', 'good', 'girl', 'girl']\n"
     ]
    }
   ],
   "source": [
    "tokens = sum(df['cleaned_tokens'], [])\n",
    "\n",
    "print(tokens)"
   ]
  },
  {
   "cell_type": "code",
   "execution_count": 8,
   "metadata": {},
   "outputs": [],
   "source": [
    "word_to_idx = {}\n",
    "i = 0\n",
    "tokens = sum(df['cleaned_tokens'], [])\n",
    "\n",
    "vocab = Counter(tokens)\n",
    "vocab = vocab.most_common()\n",
    "\n",
    "for (word, frequency) in vocab:\n",
    "    i = i + 1\n",
    "    word_to_idx[word] = i"
   ]
  },
  {
   "cell_type": "code",
   "execution_count": 9,
   "metadata": {},
   "outputs": [
    {
     "name": "stdout",
     "output_type": "stream",
     "text": [
      "{'movie': 1, 'film': 2, \"n't\": 3, 'scene': 4, 'bad': 5, 'time': 6, 'reason': 7, 'make': 8, 'jim': 9, 'good': 10, 'one': 11, 'like': 12, 'could': 13, \"'re\": 14, 'quastel': 15, 'really': 16, 'even': 17, 'monster': 18, 'joan': 19, 'love': 20, 'author': 21, 'try': 22, 'dialogue': 23, 'idea': 24, 'italy': 25, 'colleague': 26, 'maggot': 27, 'end': 28, 'watch': 29, 'jump': 30, 'radio': 31, 'stand-up': 32, 'day': 33, 'terrible': 34, 'ehle': 35, 'northam': 36, 'search': 37, 'rescue': 38, 'call': 39, 'knowles': 40, 'henriksen': 41, 'easily': 42, 'see': 43, 'appear': 44, 'get': 45, 'character': 46, 'think': 47, 'use': 48, 'whether': 49, 'need': 50, 'though': 51, 'sci-fi': 52, 'look': 53, 'say': 54, 'new': 55, 'york': 56, 'barnard': 57, 'elvire': 58, 'audrey': 59, 'john': 60, 'saxon': 61, 'etruscan': 62, 'tomb': 63, 'drug': 64, 'story': 65, 'romantic': 66, 'waste': 67, 'etrusco': 68, 'send': 69, 'reporter': 70, 'fear': 71, 'site': 72, 'special': 73, 'describe': 74, 'actor': 75, 'stand': 76, 'comedian': 77, 'wonderful': 78, 'lust': 79, 'role': 80, 'book': 81, 'funny': 82, 'queen': 83, 'corn': 84, 'plane': 85, 'ceo': 86, 'mission': 87, 'harlan': 88, 'lance': 89, 'put': 90, 'wood': 91, 'two': 92, 'decent': 93, 'sasquatch': 94, 'edit': 95, 'want': 96, 'potential': 97, 'material': 98, 'relate': 99, 'crib': 100, 'exposition': 101, 'far': 102, 'costume': 103, 'would': 104, 'stereotype': 105, 'well': 106, 'effective': 107, 'occur': 108, 'line': 109, 'back': 110, 'irrelevant': 111, 'comment': 112, 'cut': 113, 'random': 114, 'show': 115, 'important': 116, 'either': 117, 'never': 118, 'leave': 119, 'gritty': 120, 'keep': 121, 'suspense': 122, 'girl': 123}\n"
     ]
    }
   ],
   "source": [
    "print(word_to_idx)"
   ]
  },
  {
   "cell_type": "code",
   "execution_count": 10,
   "metadata": {},
   "outputs": [
    {
     "data": {
      "text/html": [
       "<div>\n",
       "<style scoped>\n",
       "    .dataframe tbody tr th:only-of-type {\n",
       "        vertical-align: middle;\n",
       "    }\n",
       "\n",
       "    .dataframe tbody tr th {\n",
       "        vertical-align: top;\n",
       "    }\n",
       "\n",
       "    .dataframe thead th {\n",
       "        text-align: right;\n",
       "    }\n",
       "</style>\n",
       "<table border=\"1\" class=\"dataframe\">\n",
       "  <thead>\n",
       "    <tr style=\"text-align: right;\">\n",
       "      <th></th>\n",
       "      <th>integer_encoded</th>\n",
       "    </tr>\n",
       "  </thead>\n",
       "  <tbody>\n",
       "    <tr>\n",
       "      <th>0</th>\n",
       "      <td>[8, 11, 2, 54, 8, 16, 5, 1, 12, 54, 8, 16, 5, ...</td>\n",
       "    </tr>\n",
       "    <tr>\n",
       "      <th>1</th>\n",
       "      <td>[2, 2]</td>\n",
       "    </tr>\n",
       "    <tr>\n",
       "      <th>2</th>\n",
       "      <td>[55, 56, 19, 57, 58, 59, 57, 60, 61, 25, 62, 6...</td>\n",
       "    </tr>\n",
       "    <tr>\n",
       "      <th>3</th>\n",
       "      <td>[2, 2, 30, 69, 3, 30, 31, 3, 69, 70, 71, 30, 7...</td>\n",
       "    </tr>\n",
       "    <tr>\n",
       "      <th>4</th>\n",
       "      <td>[72, 1, 5, 17, 1, 1, 8, 1, 73, 74, 1, 1, 74, 1...</td>\n",
       "    </tr>\n",
       "    <tr>\n",
       "      <th>5</th>\n",
       "      <td>[35, 36, 78, 78, 35, 36, 79, 79, 35, 36]</td>\n",
       "    </tr>\n",
       "    <tr>\n",
       "      <th>6</th>\n",
       "      <td>[80, 1, 3, 21, 81, 82, 21, 21, 80, 3, 82, 83, ...</td>\n",
       "    </tr>\n",
       "    <tr>\n",
       "      <th>7</th>\n",
       "      <td>[85, 86, 37, 38, 87, 39, 86, 88, 40, 89, 41, 9...</td>\n",
       "    </tr>\n",
       "    <tr>\n",
       "      <th>8</th>\n",
       "      <td>[120, 1, 1, 121, 52, 10, 121, 122, 53, 1, 52, ...</td>\n",
       "    </tr>\n",
       "    <tr>\n",
       "      <th>9</th>\n",
       "      <td>[123, 123]</td>\n",
       "    </tr>\n",
       "  </tbody>\n",
       "</table>\n",
       "</div>"
      ],
      "text/plain": [
       "                                     integer_encoded\n",
       "0  [8, 11, 2, 54, 8, 16, 5, 1, 12, 54, 8, 16, 5, ...\n",
       "1                                             [2, 2]\n",
       "2  [55, 56, 19, 57, 58, 59, 57, 60, 61, 25, 62, 6...\n",
       "3  [2, 2, 30, 69, 3, 30, 31, 3, 69, 70, 71, 30, 7...\n",
       "4  [72, 1, 5, 17, 1, 1, 8, 1, 73, 74, 1, 1, 74, 1...\n",
       "5           [35, 36, 78, 78, 35, 36, 79, 79, 35, 36]\n",
       "6  [80, 1, 3, 21, 81, 82, 21, 21, 80, 3, 82, 83, ...\n",
       "7  [85, 86, 37, 38, 87, 39, 86, 88, 40, 89, 41, 9...\n",
       "8  [120, 1, 1, 121, 52, 10, 121, 122, 53, 1, 52, ...\n",
       "9                                         [123, 123]"
      ]
     },
     "execution_count": 10,
     "metadata": {},
     "output_type": "execute_result"
    }
   ],
   "source": [
    "def idx_encoder(tokens, word_to_idx):\n",
    "    encoded_idx = []\n",
    "    \n",
    "    for token in tokens:\n",
    "        idx = word_to_idx[token]\n",
    "        encoded_idx.append(idx)\n",
    "        \n",
    "    return encoded_idx\n",
    "\n",
    "df['integer_encoded'] = df['cleaned_tokens'].apply(lambda x: idx_encoder(x, word_to_idx))\n",
    "df[['integer_encoded']]"
   ]
  }
 ],
 "metadata": {
  "kernelspec": {
   "display_name": "prac_env",
   "language": "python",
   "name": "python3"
  },
  "language_info": {
   "codemirror_mode": {
    "name": "ipython",
    "version": 3
   },
   "file_extension": ".py",
   "mimetype": "text/x-python",
   "name": "python",
   "nbconvert_exporter": "python",
   "pygments_lexer": "ipython3",
   "version": "3.12.4"
  }
 },
 "nbformat": 4,
 "nbformat_minor": 2
}
