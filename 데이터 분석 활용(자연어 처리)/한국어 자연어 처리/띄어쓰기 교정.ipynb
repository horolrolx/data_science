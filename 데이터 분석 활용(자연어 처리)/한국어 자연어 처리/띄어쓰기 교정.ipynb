{
 "cells": [
  {
   "cell_type": "code",
   "execution_count": 1,
   "metadata": {},
   "outputs": [],
   "source": [
    "from hanspell import spell_checker"
   ]
  },
  {
   "cell_type": "code",
   "execution_count": 3,
   "metadata": {},
   "outputs": [
    {
     "name": "stdout",
     "output_type": "stream",
     "text": [
      "아버지가 방에 들어가신다 나는 오늘 코딩을 했다\n"
     ]
    }
   ],
   "source": [
    "text = \"아버지가방에들어가신다나는오늘코딩을했다\"\n",
    "\n",
    "hanspell_sent = spell_checker.check(text)\n",
    "print(hanspell_sent.checked)"
   ]
  },
  {
   "cell_type": "code",
   "execution_count": 4,
   "metadata": {},
   "outputs": [
    {
     "name": "stdout",
     "output_type": "stream",
     "text": [
      "Requirement already satisfied: pip in c:\\users\\song\\appdata\\local\\anaconda3\\envs\\env_prac\\lib\\site-packages (24.2)\n",
      "Collecting konlpy\n",
      "  Downloading konlpy-0.6.0-py2.py3-none-any.whl.metadata (1.9 kB)\n",
      "Collecting JPype1>=0.7.0 (from konlpy)\n",
      "  Downloading JPype1-1.5.0-cp312-cp312-win_amd64.whl.metadata (5.0 kB)\n",
      "Collecting lxml>=4.1.0 (from konlpy)\n",
      "  Downloading lxml-5.3.0-cp312-cp312-win_amd64.whl.metadata (3.9 kB)\n",
      "Requirement already satisfied: numpy>=1.6 in c:\\users\\song\\appdata\\local\\anaconda3\\envs\\env_prac\\lib\\site-packages (from konlpy) (2.1.1)\n",
      "Requirement already satisfied: packaging in c:\\users\\song\\appdata\\local\\anaconda3\\envs\\env_prac\\lib\\site-packages (from JPype1>=0.7.0->konlpy) (24.1)\n",
      "Downloading konlpy-0.6.0-py2.py3-none-any.whl (19.4 MB)\n",
      "   ---------------------------------------- 0.0/19.4 MB ? eta -:--:--\n",
      "   ------------------------------ --------- 14.7/19.4 MB 77.1 MB/s eta 0:00:01\n",
      "   ---------------------------------------- 19.4/19.4 MB 76.7 MB/s eta 0:00:00\n",
      "Downloading JPype1-1.5.0-cp312-cp312-win_amd64.whl (352 kB)\n",
      "Downloading lxml-5.3.0-cp312-cp312-win_amd64.whl (3.8 MB)\n",
      "   ---------------------------------------- 0.0/3.8 MB ? eta -:--:--\n",
      "   ---------------------------------------- 3.8/3.8 MB 75.6 MB/s eta 0:00:00\n",
      "Installing collected packages: lxml, JPype1, konlpy\n",
      "Successfully installed JPype1-1.5.0 konlpy-0.6.0 lxml-5.3.0\n"
     ]
    }
   ],
   "source": [
    "!pip install --upgrade pip\n",
    "!pip install konlpy"
   ]
  },
  {
   "cell_type": "code",
   "execution_count": 5,
   "metadata": {},
   "outputs": [],
   "source": [
    "import konlpy"
   ]
  }
 ],
 "metadata": {
  "kernelspec": {
   "display_name": "env_prac",
   "language": "python",
   "name": "python3"
  },
  "language_info": {
   "codemirror_mode": {
    "name": "ipython",
    "version": 3
   },
   "file_extension": ".py",
   "mimetype": "text/x-python",
   "name": "python",
   "nbconvert_exporter": "python",
   "pygments_lexer": "ipython3",
   "version": "3.12.5"
  }
 },
 "nbformat": 4,
 "nbformat_minor": 2
}
