{
 "cells": [
  {
   "cell_type": "code",
   "execution_count": 9,
   "metadata": {},
   "outputs": [
    {
     "name": "stderr",
     "output_type": "stream",
     "text": [
      "[nltk_data] Downloading package stopwords to\n",
      "[nltk_data]     C:\\Users\\Song\\AppData\\Roaming\\nltk_data...\n",
      "[nltk_data]   Package stopwords is already up-to-date!\n"
     ]
    },
    {
     "data": {
      "text/plain": [
       "True"
      ]
     },
     "execution_count": 9,
     "metadata": {},
     "output_type": "execute_result"
    }
   ],
   "source": [
    "import nltk\n",
    "from nltk.corpus import stopwords\n",
    "nltk.download('stopwords')"
   ]
  },
  {
   "cell_type": "code",
   "execution_count": 10,
   "metadata": {},
   "outputs": [],
   "source": [
    "from collections import Counter\n",
    "\n",
    "# 등장 빈도 기준 정제 함수\n",
    "def clean_by_freq(tokenized_words, cut_off_count):\n",
    "    # 파이썬의 Counter 모듈을 통해 단어의 빈도수 카운트하여 단어 집합 생성\n",
    "    vocab = Counter(tokenized_words)\n",
    "    \n",
    "    # 빈도수가 cut_off_count 이하인 단어 set 추출\n",
    "    uncommon_words = {key for key, value in vocab.items() if value <= cut_off_count}\n",
    "    \n",
    "    # uncommon_words에 포함되지 않는 단어 리스트 생성\n",
    "    cleaned_words = [word for word in tokenized_words if word not in uncommon_words]\n",
    "\n",
    "    return cleaned_words\n",
    "\n",
    "\n",
    "# 단어 길이 기준 정제 함수\n",
    "def clean_by_len(tokenized_words, cut_off_length):\n",
    "    cleaned_by_freq_len = []\n",
    "    \n",
    "    for word in tokenized_words:\n",
    "        if len(word) > cut_off_length:\n",
    "            cleaned_by_freq_len.append(word)\n",
    "\n",
    "    return cleaned_by_freq_len\n",
    "    \n",
    "    \n",
    "# 불용어 제거 함수\n",
    "def clean_by_stopwords(tokenized_words, stop_words_set):\n",
    "    cleaned_words = []\n",
    "    \n",
    "    for word in tokenized_words:\n",
    "        if word not in stop_words_set:\n",
    "            cleaned_words.append(word)\n",
    "            \n",
    "    return cleaned_words\n"
   ]
  },
  {
   "cell_type": "code",
   "execution_count": 11,
   "metadata": {},
   "outputs": [
    {
     "name": "stdout",
     "output_type": "stream",
     "text": [
      "불용어 개수 : 179\n",
      "{'re', \"that'll\", 'until', 'they', 'do', 'that', 'weren', 'other', 'in', 'were', 'own', 'we', 'is', 'too', \"aren't\", 'your', \"couldn't\", 'hasn', 'through', 'yourselves', 'no', \"you'll\", 've', 'down', 'haven', 'ourselves', 'above', 'wasn', 'their', 'each', \"hadn't\", 'should', 'for', \"she's\", 'd', 'about', 'yours', 'him', 'a', 'myself', 'so', 'wouldn', 'into', 'won', 'being', \"you've\", 'between', \"you'd\", 'isn', 'at', 'over', 'aren', 'with', 'be', \"wasn't\", 'ours', 'theirs', 'during', 'this', 'once', 'while', 'himself', 'against', 'you', 'such', 'having', 'i', 'only', 'o', 'hadn', \"won't\", \"it's\", \"don't\", 't', \"wouldn't\", 'her', 'most', 'which', 'both', 'doesn', 'up', 'just', 'now', 'before', 'out', 'not', 'was', 'herself', 'here', 'he', 'nor', 'to', 'doing', 'when', 'these', 'themselves', 'and', 'who', 'than', 'his', 'mightn', \"mightn't\", 'after', 'don', 'our', 'yourself', 'had', 'from', 'very', 'any', \"hasn't\", 'what', 'because', 'will', \"you're\", 'them', 'or', 'does', 'y', 'am', 'but', 'of', 'shan', 'an', \"needn't\", 'needn', 'if', 'under', \"mustn't\", 'by', 'some', 'ain', 'mustn', 'are', 'have', \"didn't\", 's', \"shan't\", 'my', 'hers', 'why', 'how', 'whom', 'the', 'on', 'couldn', 'm', 'ma', 'same', \"should've\", 'it', 'more', 'all', 'as', 'didn', 'did', \"haven't\", 'me', 'off', 'then', 'again', \"isn't\", 'its', 'll', 'been', \"shouldn't\", 'has', 'where', 'can', 'she', \"weren't\", 'itself', 'below', 'there', \"doesn't\", 'few', 'shouldn', 'those', 'further'}\n"
     ]
    }
   ],
   "source": [
    "stopwords_set = set(stopwords.words('english'))\n",
    "\n",
    "print('불용어 개수 :', len(stopwords_set))\n",
    "print(stopwords_set)"
   ]
  },
  {
   "cell_type": "code",
   "execution_count": 12,
   "metadata": {},
   "outputs": [
    {
     "name": "stdout",
     "output_type": "stream",
     "text": [
      "불용어 개수 : 178\n",
      "불용어 출력 : {'re', \"that'll\", 'until', 'they', 'do', 'that', 'weren', 'other', 'in', 'were', 'own', 'we', 'is', 'too', \"aren't\", 'your', \"couldn't\", 'hasn', 'through', 'yourselves', 'no', \"you'll\", 've', 'down', 'haven', 'ourselves', 'above', 'wasn', 'their', 'each', \"hadn't\", 'should', 'for', \"she's\", 'd', 'about', 'yours', 'him', 'a', 'myself', 'so', 'wouldn', 'into', 'won', 'being', \"you've\", 'between', \"you'd\", 'isn', 'at', 'over', 'aren', 'with', 'be', \"wasn't\", 'ours', 'theirs', 'during', 'this', 'once', 'while', 'himself', 'against', 'you', 'such', 'having', 'i', 'only', 'o', 'hadn', \"won't\", \"it's\", \"don't\", 't', \"wouldn't\", 'her', 'most', 'which', 'both', 'doesn', 'up', 'just', 'now', 'before', 'out', 'not', 'was', 'herself', 'here', 'he', 'nor', 'to', 'doing', 'when', 'these', 'themselves', 'and', 'who', 'than', 'his', 'mightn', \"mightn't\", 'after', 'don', 'our', 'yourself', 'had', 'from', 'very', 'any', \"hasn't\", 'what', 'because', 'will', \"you're\", 'them', 'or', 'does', 'y', 'am', 'but', 'of', 'shan', 'an', \"needn't\", 'needn', 'if', 'under', 'hello', \"mustn't\", 'by', 'some', 'ain', 'mustn', 'are', 'have', \"didn't\", 's', \"shan't\", 'my', 'hers', 'why', 'how', 'whom', 'on', 'couldn', 'm', 'ma', 'same', \"should've\", 'it', 'more', 'all', 'as', 'didn', 'did', \"haven't\", 'off', 'then', 'again', \"isn't\", 'its', 'll', 'been', \"shouldn't\", 'has', 'where', 'can', 'she', \"weren't\", 'itself', 'below', 'there', \"doesn't\", 'few', 'shouldn', 'those', 'further'}\n"
     ]
    }
   ],
   "source": [
    "stopwords_set.add('hello')\n",
    "stopwords_set.remove('the')\n",
    "stopwords_set.remove('me')\n",
    "\n",
    "print('불용어 개수 :', len(stopwords_set))\n",
    "print('불용어 출력 :',stopwords_set)"
   ]
  },
  {
   "cell_type": "code",
   "execution_count": 13,
   "metadata": {},
   "outputs": [
    {
     "name": "stdout",
     "output_type": "stream",
     "text": [
      "{'our', 'me', 'my', 'myself', 'ourselves', 'ours', 'we', 'i'}\n"
     ]
    }
   ],
   "source": [
    "my_stopwords_set = {'i', 'me', 'my', 'myself', 'we', 'our', 'ours', 'ourselves'}\n",
    "\n",
    "print(my_stopwords_set)"
   ]
  },
  {
   "cell_type": "code",
   "execution_count": 14,
   "metadata": {},
   "outputs": [],
   "source": [
    "stop_words_set = set(stopwords.words('english'))\n",
    "\n",
    "# 불용어 제거\n",
    "TEXT = \"\"\"After reading the comments for this movie, I am not sure whether I should be angry, sad or sickened. Seeing comments typical of people who a)know absolutely nothing about the military or b)who base everything they think they know on movies like this or on CNN reports about Abu-Gharib makes me wonder about the state of intellectual stimulation in the world. At the time I type this the number of people in the US military: 1.4 million on Active Duty with another almost 900,000 in the Guard and Reserves for a total of roughly 2.3 million. The number of people indicted for abuses at at Abu-Gharib: Currently less than 20 That makes the total of people indicted .00083% of the total military. Even if you indict every single military member that ever stepped in to Abu-Gharib, you would not come close to making that a whole number.  The flaws in this movie would take YEARS to cover. I understand that it's supposed to be sarcastic, but in reality, the writer and director are trying to make commentary about the state of the military without an enemy to fight. In reality, the US military has been at its busiest when there are not conflicts going on. The military is the first called for disaster relief and humanitarian aid missions. When the tsunami hit Indonesia, devestating the region, the US military was the first on the scene. When the chaos of the situation overwhelmed the local governments, it was military leadership who looked at their people, the same people this movie mocks, and said make it happen. Within hours, food aid was reaching isolated villages. Within days, airfields were built, cargo aircraft started landing and a food distribution system was up and running. Hours and days, not weeks and months. Yes there are unscrupulous people in the US military. But then, there are in every walk of life, every occupation. But to see people on this website decide that 2.3 million men and women are all criminal, with nothing on their minds but thoughts of destruction or mayhem is an absolute disservice to the things that they do every day. One person on this website even went so far as to say that military members are in it for personal gain. Wow! Entry level personnel make just under $8.00 an hour assuming a 40 hour work week. Of course, many work much more than 40 hours a week and those in harm's way typically put in 16-18 hour days for months on end. That makes the pay well under minimum wage. So much for personal gain. I beg you, please make yourself familiar with the world around you. Go to a nearby base, get a visitor pass and meet some of the men and women you are so quick to disparage. You would be surprised. The military no longer accepts people in lieu of prison time. They require a minimum of a GED and prefer a high school diploma. The middle ranks are expected to get a minimum of undergraduate degrees and the upper ranks are encouraged to get advanced degrees.\n",
    "\"\"\"\n",
    "corpus = TEXT\n",
    "cleaned_by_freq_len = []\n",
    "cleaned_words = []\n",
    "\n",
    "for word in cleaned_by_freq_len:\n",
    "    if word not in stop_words_set:\n",
    "        cleaned_words.append(word)"
   ]
  }
 ],
 "metadata": {
  "kernelspec": {
   "display_name": "env_prac",
   "language": "python",
   "name": "python3"
  },
  "language_info": {
   "codemirror_mode": {
    "name": "ipython",
    "version": 3
   },
   "file_extension": ".py",
   "mimetype": "text/x-python",
   "name": "python",
   "nbconvert_exporter": "python",
   "pygments_lexer": "ipython3",
   "version": "3.12.5"
  }
 },
 "nbformat": 4,
 "nbformat_minor": 2
}
