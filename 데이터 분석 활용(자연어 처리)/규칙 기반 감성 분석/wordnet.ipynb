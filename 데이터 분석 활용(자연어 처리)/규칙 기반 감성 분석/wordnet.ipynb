{
 "cells": [
  {
   "cell_type": "code",
   "execution_count": 1,
   "metadata": {},
   "outputs": [
    {
     "name": "stderr",
     "output_type": "stream",
     "text": [
      "[nltk_data] Downloading package wordnet to\n",
      "[nltk_data]     /Users/songchangseokk/nltk_data...\n",
      "[nltk_data]   Package wordnet is already up-to-date!\n",
      "[nltk_data] Downloading package omw-1.4 to\n",
      "[nltk_data]     /Users/songchangseokk/nltk_data...\n",
      "[nltk_data]   Package omw-1.4 is already up-to-date!\n",
      "[nltk_data] Downloading package stopwords to\n",
      "[nltk_data]     /Users/songchangseokk/nltk_data...\n",
      "[nltk_data]   Package stopwords is already up-to-date!\n",
      "[nltk_data] Downloading package punkt to\n",
      "[nltk_data]     /Users/songchangseokk/nltk_data...\n",
      "[nltk_data]   Package punkt is already up-to-date!\n",
      "[nltk_data] Downloading package averaged_perceptron_tagger to\n",
      "[nltk_data]     /Users/songchangseokk/nltk_data...\n",
      "[nltk_data]   Package averaged_perceptron_tagger is already up-to-\n",
      "[nltk_data]       date!\n"
     ]
    }
   ],
   "source": [
    "import nltk\n",
    "from nltk.tokenize import word_tokenize\n",
    "from nltk.tokenize import sent_tokenize\n",
    "from nltk.corpus import stopwords\n",
    "from nltk.corpus import wordnet as wn\n",
    "from collections import Counter\n",
    "import pandas as pd\n",
    "from preprocess import clean_by_freq\n",
    "from preprocess import clean_by_len\n",
    "from preprocess import clean_by_stopwords\n",
    "from preprocess import stemming_by_porter\n",
    "from preprocess import pos_tagger\n",
    "from preprocess import words_lemmatizer\n",
    "nltk.download('stopwords')\n",
    "nltk.download('punkt')\n",
    "nltk.download('averaged_perceptron_tagger')\n",
    "\n",
    "# 모든 Synset 구하기\n",
    "synsets = wn.synsets('lead')\n",
    "\n",
    "# 품사에 해당하는 Synset 구하기\n",
    "synsets = wn.synsets('lead', 'n')"
   ]
  },
  {
   "cell_type": "code",
   "execution_count": 2,
   "metadata": {},
   "outputs": [
    {
     "name": "stdout",
     "output_type": "stream",
     "text": [
      "[Synset('lead.n.01'), Synset('lead.n.02'), Synset('lead.n.03'), Synset('lead.n.04'), Synset('lead.n.05'), Synset('lead.n.06'), Synset('lead.n.07'), Synset('star.n.04'), Synset('lead.n.09'), Synset('tip.n.03'), Synset('lead.n.11'), Synset('spark_advance.n.01'), Synset('leash.n.01'), Synset('lead.n.14'), Synset('lead.n.15'), Synset('jumper_cable.n.01'), Synset('lead.n.17')]\n"
     ]
    }
   ],
   "source": [
    "synsets = wn.synsets('lead', 'n')\n",
    "\n",
    "print(synsets)"
   ]
  },
  {
   "cell_type": "code",
   "execution_count": 3,
   "metadata": {},
   "outputs": [
    {
     "data": {
      "text/plain": [
       "[Synset('lead.n.01'),\n",
       " Synset('lead.n.02'),\n",
       " Synset('lead.n.03'),\n",
       " Synset('lead.n.04'),\n",
       " Synset('lead.n.05'),\n",
       " Synset('lead.n.06'),\n",
       " Synset('lead.n.07'),\n",
       " Synset('star.n.04'),\n",
       " Synset('lead.n.09'),\n",
       " Synset('tip.n.03'),\n",
       " Synset('lead.n.11'),\n",
       " Synset('spark_advance.n.01'),\n",
       " Synset('leash.n.01'),\n",
       " Synset('lead.n.14'),\n",
       " Synset('lead.n.15'),\n",
       " Synset('jumper_cable.n.01'),\n",
       " Synset('lead.n.17')]"
      ]
     },
     "execution_count": 3,
     "metadata": {},
     "output_type": "execute_result"
    }
   ],
   "source": [
    "wn.synsets('lead', wn.NOUN)"
   ]
  }
 ],
 "metadata": {
  "kernelspec": {
   "display_name": "prac_env",
   "language": "python",
   "name": "python3"
  },
  "language_info": {
   "codemirror_mode": {
    "name": "ipython",
    "version": 3
   },
   "file_extension": ".py",
   "mimetype": "text/x-python",
   "name": "python",
   "nbconvert_exporter": "python",
   "pygments_lexer": "ipython3",
   "version": "3.12.4"
  }
 },
 "nbformat": 4,
 "nbformat_minor": 2
}
